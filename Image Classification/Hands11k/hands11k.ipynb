{
  "cells": [
    {
      "cell_type": "markdown",
      "metadata": {
        "id": "F-ObKDUUwHOO"
      },
      "source": [
        "We try to classify the orientation of the hands. Possible orientations are \"dorsal right, dorsal left, palmar left, palmar right\"\n",
        "\n",
        "We use the \"Hands11k\" dataset."
      ]
    },
    {
      "cell_type": "code",
      "execution_count": null,
      "metadata": {
        "colab": {
          "base_uri": "https://localhost:8080/"
        },
        "id": "TJ98tESctNsg",
        "outputId": "385b4fc6-4198-4d16-80a0-b250ebbb9f8b"
      },
      "outputs": [],
      "source": [
        "import tensorflow as tf\n",
        "\n",
        "print(tf.version)"
      ]
    },
    {
      "cell_type": "code",
      "execution_count": null,
      "metadata": {},
      "outputs": [],
      "source": [
        "%ls\n",
        "%cd Hands"
      ]
    },
    {
      "cell_type": "code",
      "execution_count": null,
      "metadata": {
        "id": "D34-rOZY7_WH"
      },
      "outputs": [],
      "source": [
        "import pathlib\n",
        "\n",
        "data_dir = pathlib.Path(\"Hands\")"
      ]
    },
    {
      "cell_type": "code",
      "execution_count": null,
      "metadata": {
        "colab": {
          "base_uri": "https://localhost:8080/"
        },
        "id": "gRfa1_8260um",
        "outputId": "5f3e0bdc-abf5-4ad8-8436-e5060ffd60d6"
      },
      "outputs": [],
      "source": [
        "batch_size = 32\n",
        "img_width = 400\n",
        "img_height = 300\n",
        "\n",
        "train_ds = tf.keras.utils.image_dataset_from_directory(\n",
        "  data_dir,\n",
        "  validation_split=0.2,\n",
        "  subset=\"training\",\n",
        "  seed=123,\n",
        "  image_size=(img_height, img_width),\n",
        "  batch_size=batch_size)\n",
        "\n",
        "val_ds = tf.keras.utils.image_dataset_from_directory(\n",
        "  data_dir,\n",
        "  validation_split=0.2,\n",
        "  subset=\"validation\",\n",
        "  seed=123,\n",
        "  image_size=(img_height, img_width),\n",
        "  batch_size=batch_size)\n",
        "\n"
      ]
    },
    {
      "cell_type": "code",
      "execution_count": null,
      "metadata": {
        "colab": {
          "base_uri": "https://localhost:8080/"
        },
        "id": "NbIsdFwz78w6",
        "outputId": "00f29d85-07bc-4014-fad1-75fd1d79356f"
      },
      "outputs": [],
      "source": [
        "class_names = train_ds.class_names\n",
        "print(class_names)"
      ]
    },
    {
      "cell_type": "code",
      "execution_count": null,
      "metadata": {
        "colab": {
          "base_uri": "https://localhost:8080/"
        },
        "id": "Bq3VRJw779pE",
        "outputId": "58028003-c281-44f9-9446-10a2248b6fa6"
      },
      "outputs": [],
      "source": [
        "num_classes = 4\n",
        "\n",
        "model = tf.keras.Sequential()\n",
        "model.add(tf.keras.layers.Rescaling(1./255))\n",
        "model.add(tf.keras.layers.Conv2D(filters=32, kernel_size=(7,7), strides=(2,2), activation='relu'))\n",
        "model.add(tf.keras.layers.Conv2D(filters=32, kernel_size=(7,7), strides=(2,2), activation='relu'))\n",
        "model.add(tf.keras.layers.Conv2D(filters=32, kernel_size=(7,7), strides=(2,2), activation='relu'))\n",
        "model.add(tf.keras.layers.Conv2D(filters=32, kernel_size=(7,7), strides=(2,2), activation='relu'))\n",
        "model.add(tf.keras.layers.Conv2D(filters=32, kernel_size=(7,7), strides=(2,2), activation='relu'))\n",
        "\n",
        "#model.summary()"
      ]
    },
    {
      "cell_type": "code",
      "execution_count": null,
      "metadata": {
        "colab": {
          "base_uri": "https://localhost:8080/"
        },
        "id": "iPYypxtsMSkE",
        "outputId": "346e26da-91fc-43b9-fdbc-807a29d38a0c"
      },
      "outputs": [],
      "source": [
        "model.add(tf.keras.layers.Flatten())\n",
        "model.add(tf.keras.layers.Dense(units=4*7*32, activation='relu'))\n",
        "model.add(tf.keras.layers.Dense(units=4))\n",
        "\n",
        "#model.summary()"
      ]
    },
    {
      "cell_type": "code",
      "execution_count": null,
      "metadata": {
        "colab": {
          "base_uri": "https://localhost:8080/",
          "height": 380
        },
        "id": "WzkTdynoM3Cj",
        "outputId": "654223b4-7c65-4d11-f444-81f8d2d9fe0f"
      },
      "outputs": [],
      "source": [
        "model.compile(optimizer='adam',\n",
        "              loss=tf.keras.losses.SparseCategoricalCrossentropy(from_logits=True),\n",
        "              metrics=['accuracy'])\n",
        "\n",
        "history = model.fit(train_ds, validation_data=val_ds, epochs=20)"
      ]
    }
  ],
  "metadata": {
    "accelerator": "GPU",
    "colab": {
      "collapsed_sections": [],
      "name": "hands11k.ipynb",
      "provenance": []
    },
    "kernelspec": {
      "display_name": "Python 3",
      "name": "python3"
    },
    "language_info": {
      "codemirror_mode": {
        "name": "ipython",
        "version": 3
      },
      "file_extension": ".py",
      "mimetype": "text/x-python",
      "name": "python",
      "nbconvert_exporter": "python",
      "pygments_lexer": "ipython3",
      "version": "3.9.0"
    }
  },
  "nbformat": 4,
  "nbformat_minor": 0
}
