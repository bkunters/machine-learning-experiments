{
  "cells": [
    {
      "cell_type": "markdown",
      "metadata": {
        "id": "F-ObKDUUwHOO"
      },
      "source": [
        "We try to classify if the human on the image carries a mask.\n",
        "We use the dataset on https://www.kaggle.com/ashishjangra27/face-mask-12k-images-dataset."
      ]
    },
    {
      "cell_type": "code",
      "execution_count": 1,
      "metadata": {
        "colab": {
          "base_uri": "https://localhost:8080/"
        },
        "id": "TJ98tESctNsg",
        "outputId": "385b4fc6-4198-4d16-80a0-b250ebbb9f8b"
      },
      "outputs": [
        {
          "name": "stdout",
          "output_type": "stream",
          "text": [
            "<module 'tensorflow._api.v2.version' from 'C:\\\\Python39\\\\lib\\\\site-packages\\\\tensorflow\\\\_api\\\\v2\\\\version\\\\__init__.py'>\n"
          ]
        }
      ],
      "source": [
        "import tensorflow as tf\n",
        "\n",
        "print(tf.version)"
      ]
    },
    {
      "cell_type": "code",
      "execution_count": 2,
      "metadata": {},
      "outputs": [
        {
          "name": "stdout",
          "output_type": "stream",
          "text": [
            " Volume in drive C has no label.\n",
            " Volume Serial Number is 564D-750D\n",
            "\n",
            " Directory of c:\\Users\\bksie\\Documents\\Documents\\Source_Codes\\machine-learning-experiments\\Image Classification\\Human-Mask-Recognition\n",
            "\n",
            "21/11/2021  00:36    <DIR>          .\n",
            "21/11/2021  00:36    <DIR>          ..\n",
            "21/11/2021  00:33    <DIR>          face_mask_dataset\n",
            "21/11/2021  00:36            15.064 human-face-mask-recognition.ipynb\n",
            "               1 File(s)         15.064 bytes\n",
            "               3 Dir(s)  103.652.093.952 bytes free\n",
            "c:\\Users\\bksie\\Documents\\Documents\\Source_Codes\\machine-learning-experiments\\Image Classification\\Human-Mask-Recognition\\face_mask_dataset\n"
          ]
        }
      ],
      "source": [
        "%ls\n",
        "%cd face_mask_dataset"
      ]
    },
    {
      "cell_type": "code",
      "execution_count": 3,
      "metadata": {
        "id": "D34-rOZY7_WH"
      },
      "outputs": [],
      "source": [
        "import pathlib\n",
        "\n",
        "training_data_dir = pathlib.Path(\"Train\")\n",
        "validation_data_dir = pathlib.Path(\"Validation\")\n",
        "test_data_dir = pathlib.Path(\"Test\")"
      ]
    },
    {
      "cell_type": "code",
      "execution_count": 4,
      "metadata": {
        "colab": {
          "base_uri": "https://localhost:8080/"
        },
        "id": "gRfa1_8260um",
        "outputId": "5f3e0bdc-abf5-4ad8-8436-e5060ffd60d6"
      },
      "outputs": [
        {
          "name": "stdout",
          "output_type": "stream",
          "text": [
            "Found 10000 files belonging to 2 classes.\n",
            "Using 8000 files for training.\n",
            "Found 800 files belonging to 2 classes.\n",
            "Using 160 files for validation.\n"
          ]
        }
      ],
      "source": [
        "batch_size = 32\n",
        "img_width = 256\n",
        "img_height = 256\n",
        "\n",
        "train_ds = tf.keras.utils.image_dataset_from_directory(\n",
        "  training_data_dir,\n",
        "  validation_split=0.2,\n",
        "  subset=\"training\",\n",
        "  seed=123,\n",
        "  image_size=(img_height, img_width),\n",
        "  batch_size=batch_size)\n",
        "\n",
        "val_ds = tf.keras.utils.image_dataset_from_directory(\n",
        "  validation_data_dir,\n",
        "  validation_split=0.2,\n",
        "  subset=\"validation\",\n",
        "  seed=123,\n",
        "  image_size=(img_height, img_width),\n",
        "  batch_size=batch_size)\n",
        "\n"
      ]
    },
    {
      "cell_type": "code",
      "execution_count": 5,
      "metadata": {
        "colab": {
          "base_uri": "https://localhost:8080/"
        },
        "id": "NbIsdFwz78w6",
        "outputId": "00f29d85-07bc-4014-fad1-75fd1d79356f"
      },
      "outputs": [
        {
          "name": "stdout",
          "output_type": "stream",
          "text": [
            "['WithMask', 'WithoutMask']\n"
          ]
        }
      ],
      "source": [
        "class_names = train_ds.class_names\n",
        "print(class_names)"
      ]
    },
    {
      "cell_type": "code",
      "execution_count": 6,
      "metadata": {
        "colab": {
          "base_uri": "https://localhost:8080/"
        },
        "id": "Bq3VRJw779pE",
        "outputId": "58028003-c281-44f9-9446-10a2248b6fa6"
      },
      "outputs": [
        {
          "name": "stdout",
          "output_type": "stream",
          "text": [
            "Model: \"sequential\"\n",
            "_________________________________________________________________\n",
            " Layer (type)                Output Shape              Param #   \n",
            "=================================================================\n",
            " rescaling (Rescaling)       (None, 256, 256, 3)       0         \n",
            "                                                                 \n",
            " conv2d (Conv2D)             (None, 125, 125, 32)      4736      \n",
            "                                                                 \n",
            " conv2d_1 (Conv2D)           (None, 60, 60, 32)        50208     \n",
            "                                                                 \n",
            " conv2d_2 (Conv2D)           (None, 27, 27, 32)        50208     \n",
            "                                                                 \n",
            " conv2d_3 (Conv2D)           (None, 11, 11, 32)        50208     \n",
            "                                                                 \n",
            " conv2d_4 (Conv2D)           (None, 3, 3, 32)          50208     \n",
            "                                                                 \n",
            "=================================================================\n",
            "Total params: 205,568\n",
            "Trainable params: 205,568\n",
            "Non-trainable params: 0\n",
            "_________________________________________________________________\n"
          ]
        }
      ],
      "source": [
        "num_classes = 2\n",
        "\n",
        "model = tf.keras.Sequential()\n",
        "model.add(tf.keras.layers.Input(shape=(img_height, img_width, 3)))\n",
        "model.add(tf.keras.layers.Rescaling(1./255))\n",
        "model.add(tf.keras.layers.Conv2D(filters=32, kernel_size=(7,7), strides=(2,2), activation='relu'))\n",
        "model.add(tf.keras.layers.Conv2D(filters=32, kernel_size=(7,7), strides=(2,2), activation='relu'))\n",
        "model.add(tf.keras.layers.Conv2D(filters=32, kernel_size=(7,7), strides=(2,2), activation='relu'))\n",
        "model.add(tf.keras.layers.Conv2D(filters=32, kernel_size=(7,7), strides=(2,2), activation='relu'))\n",
        "model.add(tf.keras.layers.Conv2D(filters=32, kernel_size=(7,7), strides=(2,2), activation='relu'))\n",
        "\n",
        "model.summary()"
      ]
    },
    {
      "cell_type": "code",
      "execution_count": 7,
      "metadata": {
        "colab": {
          "base_uri": "https://localhost:8080/"
        },
        "id": "iPYypxtsMSkE",
        "outputId": "346e26da-91fc-43b9-fdbc-807a29d38a0c"
      },
      "outputs": [
        {
          "name": "stdout",
          "output_type": "stream",
          "text": [
            "Model: \"sequential\"\n",
            "_________________________________________________________________\n",
            " Layer (type)                Output Shape              Param #   \n",
            "=================================================================\n",
            " rescaling (Rescaling)       (None, 256, 256, 3)       0         \n",
            "                                                                 \n",
            " conv2d (Conv2D)             (None, 125, 125, 32)      4736      \n",
            "                                                                 \n",
            " conv2d_1 (Conv2D)           (None, 60, 60, 32)        50208     \n",
            "                                                                 \n",
            " conv2d_2 (Conv2D)           (None, 27, 27, 32)        50208     \n",
            "                                                                 \n",
            " conv2d_3 (Conv2D)           (None, 11, 11, 32)        50208     \n",
            "                                                                 \n",
            " conv2d_4 (Conv2D)           (None, 3, 3, 32)          50208     \n",
            "                                                                 \n",
            " flatten (Flatten)           (None, 288)               0         \n",
            "                                                                 \n",
            " dense (Dense)               (None, 288)               83232     \n",
            "                                                                 \n",
            " dense_1 (Dense)             (None, 2)                 578       \n",
            "                                                                 \n",
            "=================================================================\n",
            "Total params: 289,378\n",
            "Trainable params: 289,378\n",
            "Non-trainable params: 0\n",
            "_________________________________________________________________\n"
          ]
        }
      ],
      "source": [
        "model.add(tf.keras.layers.Flatten())\n",
        "model.add(tf.keras.layers.Dense(units=3*3*32, activation='relu'))\n",
        "model.add(tf.keras.layers.Dense(units=num_classes, activation='softmax'))\n",
        "\n",
        "model.summary()"
      ]
    },
    {
      "cell_type": "code",
      "execution_count": 11,
      "metadata": {
        "colab": {
          "base_uri": "https://localhost:8080/",
          "height": 380
        },
        "id": "WzkTdynoM3Cj",
        "outputId": "654223b4-7c65-4d11-f444-81f8d2d9fe0f"
      },
      "outputs": [
        {
          "name": "stdout",
          "output_type": "stream",
          "text": [
            "Epoch 1/15\n",
            "250/250 [==============================] - 23s 87ms/step - loss: 0.1881 - accuracy: 0.9415 - val_loss: 0.1792 - val_accuracy: 0.9375\n",
            "Epoch 2/15\n",
            "250/250 [==============================] - 21s 85ms/step - loss: 0.1281 - accuracy: 0.9561 - val_loss: 0.1298 - val_accuracy: 0.9500\n",
            "Epoch 3/15\n",
            "250/250 [==============================] - 24s 97ms/step - loss: 0.2018 - accuracy: 0.9227 - val_loss: 0.1375 - val_accuracy: 0.9375\n",
            "Epoch 4/15\n",
            "250/250 [==============================] - 21s 85ms/step - loss: 0.1341 - accuracy: 0.9480 - val_loss: 0.1669 - val_accuracy: 0.9438\n",
            "Epoch 5/15\n",
            "250/250 [==============================] - 24s 94ms/step - loss: 0.1118 - accuracy: 0.9589 - val_loss: 0.1359 - val_accuracy: 0.9563\n",
            "Epoch 6/15\n",
            "250/250 [==============================] - 22s 87ms/step - loss: 0.0886 - accuracy: 0.9663 - val_loss: 0.1397 - val_accuracy: 0.9563\n",
            "Epoch 7/15\n",
            "250/250 [==============================] - 21s 83ms/step - loss: 0.0964 - accuracy: 0.9649 - val_loss: 0.1063 - val_accuracy: 0.9500\n",
            "Epoch 8/15\n",
            "250/250 [==============================] - 24s 95ms/step - loss: 0.0886 - accuracy: 0.9684 - val_loss: 0.0960 - val_accuracy: 0.9625\n",
            "Epoch 9/15\n",
            "250/250 [==============================] - 22s 86ms/step - loss: 0.0751 - accuracy: 0.9719 - val_loss: 0.1189 - val_accuracy: 0.9688\n",
            "Epoch 10/15\n",
            "250/250 [==============================] - 24s 95ms/step - loss: 0.0716 - accuracy: 0.9754 - val_loss: 0.2750 - val_accuracy: 0.9500\n",
            "Epoch 11/15\n",
            "250/250 [==============================] - 22s 87ms/step - loss: 0.0624 - accuracy: 0.9778 - val_loss: 0.0812 - val_accuracy: 0.9812\n",
            "Epoch 12/15\n",
            "250/250 [==============================] - 24s 95ms/step - loss: 0.0608 - accuracy: 0.9775 - val_loss: 0.0980 - val_accuracy: 0.9563\n",
            "Epoch 13/15\n",
            "250/250 [==============================] - 21s 85ms/step - loss: 0.0486 - accuracy: 0.9811 - val_loss: 0.0951 - val_accuracy: 0.9750\n",
            "Epoch 14/15\n",
            "250/250 [==============================] - 23s 92ms/step - loss: 0.0475 - accuracy: 0.9829 - val_loss: 0.1038 - val_accuracy: 0.9438\n",
            "Epoch 15/15\n",
            "250/250 [==============================] - 23s 92ms/step - loss: 0.0517 - accuracy: 0.9816 - val_loss: 0.1454 - val_accuracy: 0.9563\n"
          ]
        }
      ],
      "source": [
        "model.compile(optimizer='adam',\n",
        "              loss='sparse_categorical_crossentropy',\n",
        "              metrics=['accuracy'])\n",
        "\n",
        "history = model.fit(train_ds, validation_data=val_ds, epochs=15)"
      ]
    },
    {
      "cell_type": "code",
      "execution_count": 12,
      "metadata": {},
      "outputs": [
        {
          "name": "stdout",
          "output_type": "stream",
          "text": [
            "Found 992 files belonging to 2 classes.\n",
            "31/31 [==============================] - 2s 49ms/step - loss: 0.1240 - accuracy: 0.9567\n"
          ]
        },
        {
          "data": {
            "text/plain": [
              "[0.12399168312549591, 0.9566532373428345]"
            ]
          },
          "execution_count": 12,
          "metadata": {},
          "output_type": "execute_result"
        }
      ],
      "source": [
        "# Test\n",
        "test_ds = tf.keras.utils.image_dataset_from_directory(\n",
        "  test_data_dir,\n",
        "  validation_split=None,\n",
        "  subset=None,\n",
        "  seed=123,\n",
        "  image_size=(img_height, img_width),\n",
        "  batch_size=batch_size)\n",
        "\n",
        "model.evaluate(test_ds)"
      ]
    },
    {
      "cell_type": "code",
      "execution_count": 30,
      "metadata": {},
      "outputs": [
        {
          "name": "stdout",
          "output_type": "stream",
          "text": [
            "WithoutMask\n",
            "0.7019725\n"
          ]
        }
      ],
      "source": [
        "import numpy as np\n",
        "\n",
        "# sample inference\n",
        "img = tf.keras.utils.load_img(path=\"Test/WithoutMask/3238.png\", target_size=(256, 256))\n",
        "img_array = tf.keras.utils.img_to_array(img)\n",
        "img_array = tf.expand_dims(img_array, 0)\n",
        "\n",
        "predictions = model.predict(img_array)\n",
        "score = predictions[0]\n",
        "\n",
        "print(class_names[np.argmax(score)])\n",
        "print(np.max(score))"
      ]
    }
  ],
  "metadata": {
    "accelerator": "GPU",
    "colab": {
      "collapsed_sections": [],
      "name": "hands11k.ipynb",
      "provenance": []
    },
    "kernelspec": {
      "display_name": "Python 3",
      "name": "python3"
    },
    "language_info": {
      "codemirror_mode": {
        "name": "ipython",
        "version": 3
      },
      "file_extension": ".py",
      "mimetype": "text/x-python",
      "name": "python",
      "nbconvert_exporter": "python",
      "pygments_lexer": "ipython3",
      "version": "3.9.0"
    }
  },
  "nbformat": 4,
  "nbformat_minor": 0
}
