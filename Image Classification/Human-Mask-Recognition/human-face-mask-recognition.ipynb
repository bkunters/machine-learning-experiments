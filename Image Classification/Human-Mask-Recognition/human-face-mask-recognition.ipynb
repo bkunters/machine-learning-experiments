{
  "cells": [
    {
      "cell_type": "markdown",
      "metadata": {
        "id": "F-ObKDUUwHOO"
      },
      "source": [
        "We try to classify if the human on the image carries a mask.\n",
        "We use the dataset on https://www.kaggle.com/ashishjangra27/face-mask-12k-images-dataset."
      ]
    },
    {
      "cell_type": "code",
      "execution_count": 1,
      "metadata": {
        "colab": {
          "base_uri": "https://localhost:8080/"
        },
        "id": "TJ98tESctNsg",
        "outputId": "385b4fc6-4198-4d16-80a0-b250ebbb9f8b"
      },
      "outputs": [
        {
          "name": "stdout",
          "output_type": "stream",
          "text": [
            "<module 'tensorflow._api.v2.version' from 'C:\\\\Python39\\\\lib\\\\site-packages\\\\tensorflow\\\\_api\\\\v2\\\\version\\\\__init__.py'>\n"
          ]
        }
      ],
      "source": [
        "import tensorflow as tf\n",
        "\n",
        "print(tf.version)"
      ]
    },
    {
      "cell_type": "code",
      "execution_count": null,
      "metadata": {},
      "outputs": [],
      "source": [
        "%ls\n",
        "%cd face_mask_dataset"
      ]
    },
    {
      "cell_type": "code",
      "execution_count": 3,
      "metadata": {
        "id": "D34-rOZY7_WH"
      },
      "outputs": [],
      "source": [
        "import pathlib\n",
        "\n",
        "training_data_dir = pathlib.Path(\"Train\")\n",
        "validation_data_dir = pathlib.Path(\"Validation\")\n",
        "test_data_dir = pathlib.Path(\"Test\")"
      ]
    },
    {
      "cell_type": "code",
      "execution_count": 4,
      "metadata": {
        "colab": {
          "base_uri": "https://localhost:8080/"
        },
        "id": "gRfa1_8260um",
        "outputId": "5f3e0bdc-abf5-4ad8-8436-e5060ffd60d6"
      },
      "outputs": [
        {
          "name": "stdout",
          "output_type": "stream",
          "text": [
            "Found 10000 files belonging to 2 classes.\n",
            "Using 8000 files for training.\n",
            "Found 800 files belonging to 2 classes.\n",
            "Using 160 files for validation.\n"
          ]
        }
      ],
      "source": [
        "batch_size = 32\n",
        "img_width = 256\n",
        "img_height = 256\n",
        "\n",
        "train_ds = tf.keras.utils.image_dataset_from_directory(\n",
        "  training_data_dir,\n",
        "  validation_split=0.2,\n",
        "  subset=\"training\",\n",
        "  seed=123,\n",
        "  image_size=(img_height, img_width),\n",
        "  batch_size=batch_size)\n",
        "\n",
        "val_ds = tf.keras.utils.image_dataset_from_directory(\n",
        "  validation_data_dir,\n",
        "  validation_split=0.2,\n",
        "  subset=\"validation\",\n",
        "  seed=123,\n",
        "  image_size=(img_height, img_width),\n",
        "  batch_size=batch_size)\n",
        "\n"
      ]
    },
    {
      "cell_type": "code",
      "execution_count": 5,
      "metadata": {
        "colab": {
          "base_uri": "https://localhost:8080/"
        },
        "id": "NbIsdFwz78w6",
        "outputId": "00f29d85-07bc-4014-fad1-75fd1d79356f"
      },
      "outputs": [
        {
          "name": "stdout",
          "output_type": "stream",
          "text": [
            "['WithMask', 'WithoutMask']\n"
          ]
        }
      ],
      "source": [
        "class_names = train_ds.class_names\n",
        "print(class_names)"
      ]
    },
    {
      "cell_type": "code",
      "execution_count": 6,
      "metadata": {
        "colab": {
          "base_uri": "https://localhost:8080/"
        },
        "id": "Bq3VRJw779pE",
        "outputId": "58028003-c281-44f9-9446-10a2248b6fa6"
      },
      "outputs": [
        {
          "name": "stdout",
          "output_type": "stream",
          "text": [
            "Model: \"sequential\"\n",
            "_________________________________________________________________\n",
            " Layer (type)                Output Shape              Param #   \n",
            "=================================================================\n",
            " rescaling (Rescaling)       (None, 256, 256, 3)       0         \n",
            "                                                                 \n",
            " conv2d (Conv2D)             (None, 125, 125, 32)      4736      \n",
            "                                                                 \n",
            " conv2d_1 (Conv2D)           (None, 60, 60, 32)        50208     \n",
            "                                                                 \n",
            " conv2d_2 (Conv2D)           (None, 27, 27, 32)        50208     \n",
            "                                                                 \n",
            " conv2d_3 (Conv2D)           (None, 11, 11, 32)        50208     \n",
            "                                                                 \n",
            " conv2d_4 (Conv2D)           (None, 3, 3, 32)          50208     \n",
            "                                                                 \n",
            "=================================================================\n",
            "Total params: 205,568\n",
            "Trainable params: 205,568\n",
            "Non-trainable params: 0\n",
            "_________________________________________________________________\n"
          ]
        }
      ],
      "source": [
        "num_classes = 2\n",
        "\n",
        "model = tf.keras.Sequential()\n",
        "model.add(tf.keras.layers.Input(shape=(img_height, img_width, 3)))\n",
        "model.add(tf.keras.layers.Rescaling(1./255))\n",
        "model.add(tf.keras.layers.Conv2D(filters=32, kernel_size=(7,7), strides=(2,2), activation='relu'))\n",
        "model.add(tf.keras.layers.Conv2D(filters=32, kernel_size=(7,7), strides=(2,2), activation='relu'))\n",
        "model.add(tf.keras.layers.Conv2D(filters=32, kernel_size=(7,7), strides=(2,2), activation='relu'))\n",
        "model.add(tf.keras.layers.Conv2D(filters=32, kernel_size=(7,7), strides=(2,2), activation='relu'))\n",
        "model.add(tf.keras.layers.Conv2D(filters=32, kernel_size=(7,7), strides=(2,2), activation='relu'))\n",
        "\n",
        "model.summary()"
      ]
    },
    {
      "cell_type": "code",
      "execution_count": 7,
      "metadata": {
        "colab": {
          "base_uri": "https://localhost:8080/"
        },
        "id": "iPYypxtsMSkE",
        "outputId": "346e26da-91fc-43b9-fdbc-807a29d38a0c"
      },
      "outputs": [
        {
          "name": "stdout",
          "output_type": "stream",
          "text": [
            "Model: \"sequential\"\n",
            "_________________________________________________________________\n",
            " Layer (type)                Output Shape              Param #   \n",
            "=================================================================\n",
            " rescaling (Rescaling)       (None, 256, 256, 3)       0         \n",
            "                                                                 \n",
            " conv2d (Conv2D)             (None, 125, 125, 32)      4736      \n",
            "                                                                 \n",
            " conv2d_1 (Conv2D)           (None, 60, 60, 32)        50208     \n",
            "                                                                 \n",
            " conv2d_2 (Conv2D)           (None, 27, 27, 32)        50208     \n",
            "                                                                 \n",
            " conv2d_3 (Conv2D)           (None, 11, 11, 32)        50208     \n",
            "                                                                 \n",
            " conv2d_4 (Conv2D)           (None, 3, 3, 32)          50208     \n",
            "                                                                 \n",
            " flatten (Flatten)           (None, 288)               0         \n",
            "                                                                 \n",
            " dense (Dense)               (None, 288)               83232     \n",
            "                                                                 \n",
            " dense_1 (Dense)             (None, 2)                 578       \n",
            "                                                                 \n",
            "=================================================================\n",
            "Total params: 289,378\n",
            "Trainable params: 289,378\n",
            "Non-trainable params: 0\n",
            "_________________________________________________________________\n"
          ]
        }
      ],
      "source": [
        "model.add(tf.keras.layers.Flatten())\n",
        "model.add(tf.keras.layers.Dense(units=3*3*32, activation='relu'))\n",
        "model.add(tf.keras.layers.Dense(units=num_classes))\n",
        "\n",
        "model.summary()"
      ]
    },
    {
      "cell_type": "code",
      "execution_count": 8,
      "metadata": {
        "colab": {
          "base_uri": "https://localhost:8080/",
          "height": 380
        },
        "id": "WzkTdynoM3Cj",
        "outputId": "654223b4-7c65-4d11-f444-81f8d2d9fe0f"
      },
      "outputs": [
        {
          "name": "stdout",
          "output_type": "stream",
          "text": [
            "Epoch 1/20\n",
            "250/250 [==============================] - 30s 84ms/step - loss: 0.2866 - accuracy: 0.8900 - val_loss: 0.2160 - val_accuracy: 0.9312\n",
            "Epoch 2/20\n",
            "250/250 [==============================] - 21s 84ms/step - loss: 0.1694 - accuracy: 0.9374 - val_loss: 0.1372 - val_accuracy: 0.9438\n",
            "Epoch 3/20\n",
            "250/250 [==============================] - 21s 85ms/step - loss: 0.1434 - accuracy: 0.9488 - val_loss: 0.1044 - val_accuracy: 0.9438\n",
            "Epoch 4/20\n",
            "250/250 [==============================] - 23s 93ms/step - loss: 0.1029 - accuracy: 0.9620 - val_loss: 0.1306 - val_accuracy: 0.9500\n",
            "Epoch 5/20\n",
            "250/250 [==============================] - 21s 84ms/step - loss: 0.0896 - accuracy: 0.9678 - val_loss: 0.1166 - val_accuracy: 0.9625\n",
            "Epoch 6/20\n",
            "250/250 [==============================] - 22s 86ms/step - loss: 0.0876 - accuracy: 0.9672 - val_loss: 0.1044 - val_accuracy: 0.9750\n",
            "Epoch 7/20\n",
            "250/250 [==============================] - 24s 95ms/step - loss: 0.0708 - accuracy: 0.9728 - val_loss: 0.1006 - val_accuracy: 0.9500\n",
            "Epoch 8/20\n",
            "250/250 [==============================] - 22s 86ms/step - loss: 0.0771 - accuracy: 0.9732 - val_loss: 0.1032 - val_accuracy: 0.9625\n",
            "Epoch 9/20\n",
            "250/250 [==============================] - 25s 97ms/step - loss: 0.0640 - accuracy: 0.9769 - val_loss: 0.1196 - val_accuracy: 0.9563\n",
            "Epoch 10/20\n",
            "250/250 [==============================] - 23s 90ms/step - loss: 0.0635 - accuracy: 0.9776 - val_loss: 0.0538 - val_accuracy: 0.9750\n",
            "Epoch 11/20\n",
            "250/250 [==============================] - 22s 86ms/step - loss: 0.0487 - accuracy: 0.9824 - val_loss: 0.0957 - val_accuracy: 0.9688\n",
            "Epoch 12/20\n",
            "250/250 [==============================] - 23s 93ms/step - loss: 0.0518 - accuracy: 0.9795 - val_loss: 0.1508 - val_accuracy: 0.9688\n",
            "Epoch 13/20\n",
            "250/250 [==============================] - 23s 93ms/step - loss: 0.0429 - accuracy: 0.9827 - val_loss: 0.1523 - val_accuracy: 0.9875\n",
            "Epoch 14/20\n",
            "250/250 [==============================] - 22s 88ms/step - loss: 0.0423 - accuracy: 0.9850 - val_loss: 0.1097 - val_accuracy: 0.9438\n",
            "Epoch 15/20\n",
            "250/250 [==============================] - 24s 94ms/step - loss: 0.0360 - accuracy: 0.9874 - val_loss: 0.1681 - val_accuracy: 0.9438\n",
            "Epoch 16/20\n",
            "250/250 [==============================] - 23s 90ms/step - loss: 0.0473 - accuracy: 0.9834 - val_loss: 1.2203 - val_accuracy: 0.9062\n",
            "Epoch 17/20\n",
            "250/250 [==============================] - 23s 93ms/step - loss: 0.0327 - accuracy: 0.9875 - val_loss: 0.0453 - val_accuracy: 0.9750\n",
            "Epoch 18/20\n",
            "250/250 [==============================] - 23s 89ms/step - loss: 0.0312 - accuracy: 0.9886 - val_loss: 0.0477 - val_accuracy: 0.9937\n",
            "Epoch 19/20\n",
            "250/250 [==============================] - 22s 87ms/step - loss: 0.0289 - accuracy: 0.9901 - val_loss: 0.0631 - val_accuracy: 0.9688\n",
            "Epoch 20/20\n",
            "250/250 [==============================] - 23s 90ms/step - loss: 0.1129 - accuracy: 0.9665 - val_loss: 0.0883 - val_accuracy: 0.9688\n"
          ]
        }
      ],
      "source": [
        "model.compile(optimizer='adam',\n",
        "              loss=tf.keras.losses.SparseCategoricalCrossentropy(from_logits=True),\n",
        "              metrics=['accuracy'])\n",
        "\n",
        "history = model.fit(train_ds, validation_data=val_ds, epochs=15)"
      ]
    },
    {
      "cell_type": "code",
      "execution_count": 10,
      "metadata": {},
      "outputs": [
        {
          "name": "stdout",
          "output_type": "stream",
          "text": [
            "Found 992 files belonging to 2 classes.\n",
            "31/31 [==============================] - 2s 45ms/step - loss: 0.1396 - accuracy: 0.9607\n"
          ]
        },
        {
          "data": {
            "text/plain": [
              "[0.13958117365837097, 0.9606854915618896]"
            ]
          },
          "execution_count": 10,
          "metadata": {},
          "output_type": "execute_result"
        }
      ],
      "source": [
        "# Test\n",
        "test_ds = tf.keras.utils.image_dataset_from_directory(\n",
        "  test_data_dir,\n",
        "  validation_split=None,\n",
        "  subset=None,\n",
        "  seed=123,\n",
        "  image_size=(img_height, img_width),\n",
        "  batch_size=batch_size)\n",
        "\n",
        "model.evaluate(test_ds)"
      ]
    }
  ],
  "metadata": {
    "accelerator": "GPU",
    "colab": {
      "collapsed_sections": [],
      "name": "hands11k.ipynb",
      "provenance": []
    },
    "kernelspec": {
      "display_name": "Python 3",
      "name": "python3"
    },
    "language_info": {
      "codemirror_mode": {
        "name": "ipython",
        "version": 3
      },
      "file_extension": ".py",
      "mimetype": "text/x-python",
      "name": "python",
      "nbconvert_exporter": "python",
      "pygments_lexer": "ipython3",
      "version": "3.9.0"
    }
  },
  "nbformat": 4,
  "nbformat_minor": 0
}
